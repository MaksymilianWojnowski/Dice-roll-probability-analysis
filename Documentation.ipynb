{
  "cells": [
    {
      "cell_type": "markdown",
      "metadata": {},
      "source": [
        "Do stworzenia wizualizacji użyto języka Python, zastosowano bibliotekę matplotlib.  "
      ]
    },
    {
      "cell_type": "code",
      "execution_count": null,
      "metadata": {
        "trusted": true
      },
      "outputs": [],
      "source": [
        "# 1. Tworzymy wszystkie mozliwe wyniki rzutu szescioma koscmi o szesciu scianach\n",
        "outcomes = list(product(range(1, 7), repeat=6))"
      ]
    },
    {
      "cell_type": "code",
      "execution_count": null,
      "metadata": {
        "trusted": true
      },
      "outputs": [],
      "source": [
        "# 2. Liczymy sume kazdego z wynikow i liczymy ilosc wystapien kazdego wyniku\n",
        "sums_counts = {}\n",
        "\n",
        "for outcome in outcomes:\n",
        "    outcome_sum = sum(outcome)\n",
        "    if outcome_sum in sums_counts:\n",
        "        sums_counts[outcome_sum] += 1\n",
        "    else:\n",
        "        sums_counts[outcome_sum] = 1\n",
        "\n",
        "print(sums_counts)"
      ]
    },
    {
      "cell_type": "code",
      "execution_count": null,
      "metadata": {
        "trusted": true
      },
      "outputs": [],
      "source": [
        "# 3. Liczymy calkowite prawdopodobienstwo\n",
        "total_combinations = sum(sums_counts.values())"
      ]
    },
    {
      "cell_type": "code",
      "execution_count": null,
      "metadata": {
        "trusted": true
      },
      "outputs": [],
      "source": [
        "# 4. Liczymy prawdopodobienstwo wystapienia kazdego wyniku\n",
        "probabilities = {sum_: round( (count / total_combinations) * 100,2) for sum_, count in sums_counts.items()}"
      ]
    },
    {
      "cell_type": "code",
      "execution_count": null,
      "metadata": {
        "trusted": true
      },
      "outputs": [],
      "source": [
        "# W I Z U A L I Z A C J A"
      ]
    },
    {
      "cell_type": "code",
      "execution_count": null,
      "metadata": {
        "trusted": true
      },
      "outputs": [],
      "source": [
        "# 1. Funckja do dodawania etykiet\n",
        "def addlabels(x, y):\n",
        "    for i in range(len(x)):\n",
        "        plt.text(i+6, y[i], y[i], ha='center')"
      ]
    },
    {
      "cell_type": "code",
      "execution_count": null,
      "metadata": {
        "trusted": true
      },
      "outputs": [],
      "source": [
        "# 2. Tworzymy wykres typu barplot\n",
        "plt.figure(figsize = (10, 5))\n",
        "plt.bar(list(probabilities.keys()),list(probabilities.values()))\n",
        "plt.title(\"Prawdopodobienstwo wyrzucenia sumy oczek 6-ścienną kością do gry\")\n",
        "plt.xlabel(\"Suma oczek\")\n",
        "plt.ylabel(\"Prawdopodobieństwo [%]\")\n",
        "plt.xticks(list(probabilities.keys()))\n",
        "ax = plt.gca()\n",
        "ax.get_yaxis().set_visible(False)\n",
        "addlabels(list(probabilities.keys()),list(probabilities.values()))\n",
        "plt.show()"
      ]
    }
  ],
  "metadata": {
    "kernelspec": {
      "display_name": "Python (Pyodide)",
      "language": "python",
      "name": "python"
    },
    "language_info": {
      "codemirror_mode": {
        "name": "python",
        "version": 3
      },
      "file_extension": ".py",
      "mimetype": "text/x-python",
      "name": "python",
      "nbconvert_exporter": "python",
      "pygments_lexer": "ipython3",
      "version": "3.8"
    }
  },
  "nbformat": 4,
  "nbformat_minor": 4
}
